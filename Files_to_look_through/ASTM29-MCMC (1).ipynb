{
 "cells": [
  {
   "cell_type": "markdown",
   "metadata": {},
   "source": [
    "# Basic MCMC examples"
   ]
  },
  {
   "cell_type": "code",
   "execution_count": null,
   "metadata": {},
   "outputs": [],
   "source": [
    "import matplotlib\n",
    "import numpy as np\n",
    "import matplotlib.pyplot as plt\n",
    "import scipy.stats\n",
    "\n",
    "plt.rcParams['xtick.minor.visible'], plt.rcParams['xtick.top'] = True,True \n",
    "plt.rcParams['ytick.minor.visible'], plt.rcParams['ytick.right'] = True,True \n",
    "plt.rcParams['xtick.direction'], plt.rcParams['ytick.direction'] = 'in','in' "
   ]
  },
  {
   "cell_type": "code",
   "execution_count": null,
   "metadata": {},
   "outputs": [],
   "source": [
    "plt.rcParams['font.size'] = 18 "
   ]
  },
  {
   "cell_type": "markdown",
   "metadata": {},
   "source": [
    "# Functions to create/plot PDF"
   ]
  },
  {
   "cell_type": "code",
   "execution_count": null,
   "metadata": {},
   "outputs": [],
   "source": [
    "def StrangePdf(x,centres,covars,weights) :\n",
    "    '''Gives a generic strange shaped pdf for the Metropolis example'''\n",
    "    PDF = np.array([])\n",
    "    if(x.ndim == 1) : PDF = np.zeros_like(x[0])\n",
    "    if(x.ndim == 2) : PDF = np.zeros_like(x[:,0])\n",
    "    if(x.ndim == 3) : PDF = np.zeros_like(x[:,:,0])\n",
    "    if(x.ndim > 3 ) : return 0\n",
    "    #PDF = np.zeros_like(x[:,:,0])\n",
    "    for i in range(len(centres)) :\n",
    "        PDF += weights[i]*scipy.stats.multivariate_normal.pdf(x,centres[i],covars[i])\n",
    "    return PDF / np.sum(weights)"
   ]
  },
  {
   "cell_type": "code",
   "execution_count": null,
   "metadata": {
    "scrolled": true
   },
   "outputs": [],
   "source": [
    "def PlotPdf(pdf,colors=None) :\n",
    "    '''Plots the pdf given (in a pre-approved range)'''\n",
    "    x, y = np.mgrid[0:4:.01, 0:7:.01]\n",
    "    pos = np.empty(x.shape + (2,))\n",
    "    pos[:, :, 0] = x\n",
    "    pos[:, :, 1] = y\n",
    "    plt.contour(x, y, pdf(pos),colors=colors)\n",
    "    plt.xlabel('x')\n",
    "    plt.ylabel('y')"
   ]
  },
  {
   "cell_type": "code",
   "execution_count": null,
   "metadata": {},
   "outputs": [],
   "source": [
    "def specificStrangePdf (pos) :\n",
    "    '''Particular choice of pdf for example'''\n",
    "    centres = [[1.2,2.5],[2.1,4],[3.0,5]]\n",
    "    covars = [[[0.25,-0.2],[-0.2,0.5]],\n",
    "              [[0.15,0.1],[0.1,1.5]],\n",
    "              [[0.3,0.],[0.,0.2]]]\n",
    "    weights = [0.4,0.7,0.15]\n",
    "    return StrangePdf(pos,centres,covars,weights)"
   ]
  },
  {
   "cell_type": "markdown",
   "metadata": {},
   "source": [
    "# Metropolis-Hastings algorithm"
   ]
  },
  {
   "cell_type": "code",
   "execution_count": null,
   "metadata": {},
   "outputs": [],
   "source": [
    "def SimpleMetropolisHastings(pdf, proposalcovar, initialvalue, initialpdfvalue) :\n",
    "    '''Takes a step in a Metropolis-Hastings algorithm\n",
    "    \n",
    "    Returns new step in chain, pdf value of that step, pdf value of \n",
    "    proposal step (these may be the same)'''\n",
    "    # generate proposal state\n",
    "    dval = np.dot(proposalcovar, np.random.randn(len(initialvalue)))\n",
    "    proposalvalue = initialvalue + dval\n",
    "    # Find pdf value\n",
    "    newpdfvalue = pdf(proposalvalue)\n",
    "    # Make step if better\n",
    "    if newpdfvalue > initialpdfvalue : \n",
    "        return proposalvalue,newpdfvalue,newpdfvalue\n",
    "    else :\n",
    "        # Allow for possible step if worse\n",
    "        tester = np.random.rand() # U(0,1)\n",
    "        if tester < newpdfvalue/initialpdfvalue : \n",
    "            return proposalvalue,newpdfvalue,newpdfvalue\n",
    "        else :\n",
    "            return initialvalue, initialpdfvalue,newpdfvalue\n",
    "            "
   ]
  },
  {
   "cell_type": "markdown",
   "metadata": {},
   "source": [
    "# Show the pdf as a contour plot"
   ]
  },
  {
   "cell_type": "code",
   "execution_count": null,
   "metadata": {},
   "outputs": [],
   "source": [
    "\n",
    "PlotPdf(specificStrangePdf)\n",
    "plt.show()\n"
   ]
  },
  {
   "cell_type": "markdown",
   "metadata": {},
   "source": [
    "# Run for a few steps"
   ]
  },
  {
   "cell_type": "code",
   "execution_count": null,
   "metadata": {},
   "outputs": [],
   "source": [
    "nchain = 200\n",
    "chain = np.zeros([nchain,2])\n",
    "\n",
    "chain[0] = [10,2]\n",
    "# covariance matrix of propsal \n",
    "propcovar = [[0.1,0],[0,0.2]]\n",
    "pdfvalue = specificStrangePdf(chain[0])\n",
    "\n",
    "# compute mean acceptance ratio\n",
    "acceptanceRatio = 0.\n",
    "\n",
    "#Run Metropolis Hastings\n",
    "for i in range(1,nchain) :\n",
    "    oldpdfvalue = pdfvalue\n",
    "    chain[i],pdfvalue,steppdfvalue = SimpleMetropolisHastings(specificStrangePdf,propcovar,chain[i-1],pdfvalue)\n",
    "    acceptanceRatio += np.min([1,steppdfvalue/oldpdfvalue])\n",
    "\n",
    "print('mean a=',acceptanceRatio/(nchain-1))\n",
    "\n",
    "PlotPdf(specificStrangePdf)\n",
    "plt.plot(chain[:,0],chain[:,1])\n",
    "plt.show()\n"
   ]
  },
  {
   "cell_type": "markdown",
   "metadata": {},
   "source": [
    "# Run longer and from a worse starting point"
   ]
  },
  {
   "cell_type": "code",
   "execution_count": null,
   "metadata": {},
   "outputs": [],
   "source": [
    "nchain = 2000\n",
    "chain = np.zeros([nchain,2])\n",
    "\n",
    "chain[0] = [10,2]\n",
    "# covariance matrix of propsal \n",
    "propcovar = [[0.1,0],[0,0.2]]\n",
    "pdfvalue = specificStrangePdf(chain[0])\n",
    "\n",
    "# compute mean acceptance ratio\n",
    "acceptanceRatio = 0.\n",
    "\n",
    "#Run Metropolis Hastings\n",
    "for i in range(1,nchain) :\n",
    "    oldpdfvalue = pdfvalue\n",
    "    chain[i],pdfvalue,steppdfvalue = SimpleMetropolisHastings(specificStrangePdf,propcovar,chain[i-1],pdfvalue)\n",
    "    acceptanceRatio += np.min([1,steppdfvalue/oldpdfvalue])\n",
    "\n",
    "print('mean a=',acceptanceRatio/(nchain-1))\n",
    "\n",
    "PlotPdf(specificStrangePdf)\n",
    "plt.plot(chain[:,0],chain[:,1])\n",
    "plt.show()\n"
   ]
  },
  {
   "cell_type": "markdown",
   "metadata": {},
   "source": [
    "# Check for convergence by-eye: show the trails\n",
    "\n",
    "Note initial burn-in period, and strong correlation on short time-scales"
   ]
  },
  {
   "cell_type": "code",
   "execution_count": null,
   "metadata": {},
   "outputs": [],
   "source": [
    "plt.plot(chain)\n",
    "plt.xlabel('step')\n",
    "plt.ylabel('x,y')\n",
    "plt.show()"
   ]
  },
  {
   "cell_type": "markdown",
   "metadata": {},
   "source": [
    "# Run longer"
   ]
  },
  {
   "cell_type": "code",
   "execution_count": null,
   "metadata": {},
   "outputs": [],
   "source": [
    "nchain = 20000\n",
    "chain = np.zeros([nchain,2])\n",
    "\n",
    "chain[0] = [10,2]\n",
    "# covariance matrix of propsal \n",
    "propcovar = [[0.1,0],[0,0.2]]\n",
    "pdfvalue = specificStrangePdf(chain[0])\n",
    "\n",
    "# compute mean acceptance ratio\n",
    "acceptanceRatio = 0.\n",
    "\n",
    "#Run Metropolis Hastings\n",
    "for i in range(1,nchain) :\n",
    "    oldpdfvalue = pdfvalue\n",
    "    chain[i],pdfvalue,steppdfvalue = SimpleMetropolisHastings(specificStrangePdf,propcovar,chain[i-1],pdfvalue)\n",
    "    acceptanceRatio += np.min([1,steppdfvalue/oldpdfvalue])\n",
    "\n",
    "print('mean a=',acceptanceRatio/(nchain-1))\n",
    "\n",
    "PlotPdf(specificStrangePdf)\n",
    "plt.plot(chain[:,0],chain[:,1])\n",
    "plt.show()\n"
   ]
  },
  {
   "cell_type": "markdown",
   "metadata": {},
   "source": [
    "# Check for convergence by-eye: show the trails\n",
    "\n",
    "Note strong correlation on short time-scales"
   ]
  },
  {
   "cell_type": "code",
   "execution_count": null,
   "metadata": {},
   "outputs": [],
   "source": [
    "plt.plot(chain)\n",
    "plt.xlabel('step')\n",
    "plt.ylabel('x,y')\n",
    "plt.show()"
   ]
  },
  {
   "cell_type": "markdown",
   "metadata": {},
   "source": [
    "# Run with a better tuned covariance matrix"
   ]
  },
  {
   "cell_type": "code",
   "execution_count": null,
   "metadata": {},
   "outputs": [],
   "source": [
    "nchain = 200\n",
    "chain = np.zeros([nchain,2])\n",
    "\n",
    "chain[0] = [3.5,2]\n",
    "# covariance matrix of propsal \n",
    "propcovar = [[1.5,0],[0,2.]]\n",
    "pdfvalue = specificStrangePdf(chain[0])\n",
    "\n",
    "# compute mean acceptance ratio\n",
    "acceptanceRatio = 0.\n",
    "\n",
    "for i in range(1,nchain) :\n",
    "    oldpdfvalue = pdfvalue\n",
    "    chain[i],pdfvalue,steppdfvalue = SimpleMetropolisHastings(specificStrangePdf,propcovar,chain[i-1],pdfvalue)\n",
    "    acceptanceRatio += np.min([1,steppdfvalue/oldpdfvalue])\n",
    "\n",
    "print('mean a=',acceptanceRatio/(nchain-1))\n",
    "\n",
    "PlotPdf(specificStrangePdf)\n",
    "plt.plot(chain[:,0],chain[:,1], '.')\n",
    "plt.show()\n"
   ]
  },
  {
   "cell_type": "markdown",
   "metadata": {},
   "source": [
    "# Run longer"
   ]
  },
  {
   "cell_type": "code",
   "execution_count": null,
   "metadata": {},
   "outputs": [],
   "source": [
    "nchain = 2000\n",
    "chain = np.zeros([nchain,2])\n",
    "\n",
    "chain[0] = [3.5,2]\n",
    "# covariance matrix of propsal \n",
    "propcovar = [[1.5,0],[0,2.]]\n",
    "pdfvalue = specificStrangePdf(chain[0])\n",
    "\n",
    "# compute mean acceptance ratio\n",
    "acceptanceRatio = 0.\n",
    "\n",
    "for i in range(1,nchain) :\n",
    "    oldpdfvalue = pdfvalue\n",
    "    chain[i],pdfvalue,steppdfvalue = SimpleMetropolisHastings(specificStrangePdf,propcovar,chain[i-1],pdfvalue)\n",
    "    acceptanceRatio += np.min([1,steppdfvalue/oldpdfvalue])\n",
    "\n",
    "print('mean a=',acceptanceRatio/(nchain-1))\n",
    "\n",
    "PlotPdf(specificStrangePdf)\n",
    "plt.plot(chain[:,0],chain[:,1], '.')\n",
    "plt.show()\n"
   ]
  },
  {
   "cell_type": "markdown",
   "metadata": {},
   "source": [
    "# Run longer"
   ]
  },
  {
   "cell_type": "code",
   "execution_count": null,
   "metadata": {},
   "outputs": [],
   "source": [
    "nchain = 20000\n",
    "chain = np.zeros([nchain,2])\n",
    "\n",
    "chain[0] = [3.5,2]\n",
    "# covariance matrix of propsal \n",
    "propcovar = [[1.5,0],[0,2.]]\n",
    "pdfvalue = specificStrangePdf(chain[0])\n",
    "\n",
    "# compute mean acceptance ratio\n",
    "acceptanceRatio = 0.\n",
    "\n",
    "for i in range(1,nchain) :\n",
    "    oldpdfvalue = pdfvalue\n",
    "    chain[i],pdfvalue,steppdfvalue = SimpleMetropolisHastings(specificStrangePdf,propcovar,chain[i-1],pdfvalue)\n",
    "    acceptanceRatio += np.min([1,steppdfvalue/oldpdfvalue])\n",
    "\n",
    "print('mean a=',acceptanceRatio/(nchain-1))\n",
    "\n",
    "PlotPdf(specificStrangePdf)\n",
    "plt.plot(chain[:,0],chain[:,1], '.')\n",
    "plt.show()\n"
   ]
  },
  {
   "cell_type": "markdown",
   "metadata": {},
   "source": [
    "# trail plot again\n",
    "\n",
    "Looks much nicer now"
   ]
  },
  {
   "cell_type": "code",
   "execution_count": null,
   "metadata": {},
   "outputs": [],
   "source": [
    "plt.plot(chain)\n",
    "plt.xlabel('step')\n",
    "plt.ylabel('x,y')\n",
    "plt.show()"
   ]
  },
  {
   "cell_type": "markdown",
   "metadata": {},
   "source": [
    "# Find for a large number of points \n",
    "\n",
    "## Discard some of the early points in the chain (burn-in)\n",
    "### This ensures that the results are ~independent of the starting point"
   ]
  },
  {
   "cell_type": "code",
   "execution_count": null,
   "metadata": {},
   "outputs": [],
   "source": [
    "# Number of points in my MCMC chain\n",
    "nchain = 50000\n",
    "chain = np.zeros([nchain,2])\n",
    "# start point\n",
    "chain[0] = [3,2]\n",
    "# covariance matrix of propsal \n",
    "propcovar = [[1.5,0],[0,2.]]\n",
    "pdfvalue = specificStrangePdf(chain[0])\n",
    "\n",
    "\n",
    "# compute mean acceptance ratio\n",
    "acceptanceRatio = 0.\n",
    "\n",
    "for i in range(1,nchain) :\n",
    "    oldpdfvalue = pdfvalue\n",
    "    chain[i],pdfvalue,steppdfvalue = SimpleMetropolisHastings(specificStrangePdf,propcovar,\n",
    "                                                              chain[i-1],pdfvalue)\n",
    "    acceptanceRatio += np.min([1,steppdfvalue/oldpdfvalue])\n",
    "\n",
    "# here we ignore the first 20% of values in the chain\n",
    "print('mean values: ', np.mean(chain[nchain//5:,0]), np.mean(chain[nchain//5:,1]))\n",
    "    \n",
    "#take only last 80%\n",
    "plt.hist2d(chain[nchain//5:,0],chain[nchain//5:,1],40,density=True,cmap='plasma')\n",
    "cbar = plt.colorbar()\n",
    "cbar.set_label('f(x,y)')\n",
    "PlotPdf(specificStrangePdf,'k')\n",
    "plt.xlabel('x')\n",
    "plt.ylabel('y')\n",
    "plt.show()"
   ]
  },
  {
   "cell_type": "code",
   "execution_count": null,
   "metadata": {},
   "outputs": [],
   "source": [
    " \n",
    "#take only last 80%\n",
    "plt.hist2d(chain[nchain//5:,0],chain[nchain//5:,1],30,density=True,cmap='plasma')\n",
    "cbar = plt.colorbar()\n",
    "cbar.set_label('f(x,y)')\n",
    "#PlotPdf(specificStrangePdf,'k')\n",
    "plt.xlabel('x')\n",
    "plt.ylabel('y')\n",
    "plt.show()"
   ]
  },
  {
   "cell_type": "markdown",
   "metadata": {},
   "source": [
    "# And then it's trivial to get histograms of $f_X(x)$ and $f_Y(y)$"
   ]
  },
  {
   "cell_type": "code",
   "execution_count": null,
   "metadata": {},
   "outputs": [],
   "source": [
    "plt.gcf().set_size_inches(10,4)\n",
    "plt.subplot(121)\n",
    "plt.hist(chain[nchain//5:,0],50,density=True)\n",
    "plt.xlabel('x')\n",
    "plt.ylabel('f(x)')\n",
    "plt.subplot(122)\n",
    "plt.hist(chain[nchain//5:,1],50,density=True)\n",
    "plt.xlabel('y')\n",
    "plt.ylabel('f(y)')\n",
    "plt.tight_layout()\n",
    "plt.show()"
   ]
  },
  {
   "cell_type": "markdown",
   "metadata": {},
   "source": [
    "# Or averages and uncertainties\n"
   ]
  },
  {
   "cell_type": "code",
   "execution_count": null,
   "metadata": {},
   "outputs": [],
   "source": [
    "print('E(x): %.2f' % np.mean(chain[nchain//5:,0]))\n",
    "print('E(y): %.2f' % np.mean(chain[nchain//5:,1]))\n"
   ]
  },
  {
   "cell_type": "code",
   "execution_count": null,
   "metadata": {},
   "outputs": [],
   "source": [
    "print('Covariance matrix:\\n', np.cov(chain[nchain//5:,:].T))"
   ]
  },
  {
   "cell_type": "markdown",
   "metadata": {},
   "source": [
    "# We can make a corner plot with the corner package\n",
    "\n",
    "This shows us the 2D marginal distributions of each pair of parameters as 2D histograms, plus the 1D marginal distributions as regular histograms. On the latter we also mark 16%, 50% and 84% quantiles"
   ]
  },
  {
   "cell_type": "code",
   "execution_count": null,
   "metadata": {},
   "outputs": [],
   "source": [
    "import corner"
   ]
  },
  {
   "cell_type": "code",
   "execution_count": null,
   "metadata": {},
   "outputs": [],
   "source": [
    "corner.corner(chain,labels=['x','y'],quantiles=[0.16,0.5,0.84])\n",
    "plt.show()"
   ]
  },
  {
   "cell_type": "code",
   "execution_count": null,
   "metadata": {},
   "outputs": [],
   "source": []
  }
 ],
 "metadata": {
  "kernelspec": {
   "display_name": "Python 3 (ipykernel)",
   "language": "python",
   "name": "python3"
  },
  "language_info": {
   "codemirror_mode": {
    "name": "ipython",
    "version": 3
   },
   "file_extension": ".py",
   "mimetype": "text/x-python",
   "name": "python",
   "nbconvert_exporter": "python",
   "pygments_lexer": "ipython3",
   "version": "3.9.18"
  }
 },
 "nbformat": 4,
 "nbformat_minor": 4
}
