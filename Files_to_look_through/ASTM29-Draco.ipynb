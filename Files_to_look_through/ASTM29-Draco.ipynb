{
 "cells": [
  {
   "cell_type": "code",
   "execution_count": null,
   "id": "4673a431-8c6c-4c00-879f-d0d24729908b",
   "metadata": {},
   "outputs": [],
   "source": [
    "\n",
    "import numpy as np \n",
    "import matplotlib.pyplot as plt \n",
    "import pandas as pd \n",
    "import scipy.stats\n",
    "plt.rcParams['xtick.minor.visible'], plt.rcParams['xtick.top'] = True,True \n",
    "plt.rcParams['ytick.minor.visible'], plt.rcParams['ytick.right'] = True,True \n",
    "plt.rcParams['xtick.direction'], plt.rcParams['ytick.direction'] = 'in','in' \n",
    "plt.rcParams['font.size'] = 18 "
   ]
  },
  {
   "cell_type": "markdown",
   "id": "1fd18d46",
   "metadata": {},
   "source": [
    "# RV data for 3 stars in Draco dwarf Galaxy from Aaronson 1983\n",
    "\n",
    "![](./720px-Draco_Dwarf_Spheroidal_\\(2024-017\\).jpg)\n",
    "\n",
    "Above: The Draco dwarf galaxy, By Science NASA, ESA, Eduardo Vitral (STScI), Roeland van der Marel (STScI), Sangmo Tony Sohn (STScI), DSS Image Processing: Joseph DePasquale (STScI) - Draco Dwarf Spheroidal, Public Domain, https://commons.wikimedia.org/w/index.php?curid=150260051"
   ]
  },
  {
   "cell_type": "code",
   "execution_count": null,
   "id": "45080dda-5dd0-44d3-aa2e-eb1cf9c3a85f",
   "metadata": {},
   "outputs": [],
   "source": [
    "\n",
    "V = np.array([-298.15,-300.2,-279.7])\n",
    "n = len(V)\n",
    "\n",
    "def logl(mu,sig): \n",
    "    '''Draco log likelihood for parameters mu, sig'''\n",
    "    return - n * np.log(sig) - np.sum((V-mu)**2)/(2.*sig**2)\n"
   ]
  },
  {
   "cell_type": "markdown",
   "id": "0e18bba7",
   "metadata": {},
   "source": [
    "## point estimates from setting derivatives = 0\n"
   ]
  },
  {
   "cell_type": "code",
   "execution_count": null,
   "id": "ba34d828",
   "metadata": {},
   "outputs": [],
   "source": [
    "\n",
    "muhat = np.sum(V)/n\n",
    "sigmahat = np.sqrt(np.sum((V-muhat)**2)/n)\n",
    "print(muhat, sigmahat)"
   ]
  },
  {
   "cell_type": "markdown",
   "id": "f242775a",
   "metadata": {},
   "source": [
    "## interval estimates 1: Cramér–Rao bound\n"
   ]
  },
  {
   "cell_type": "code",
   "execution_count": null,
   "id": "5636eedb",
   "metadata": {},
   "outputs": [],
   "source": [
    "\n",
    "sigma_mu = sigmahat/np.sqrt(n)\n",
    "sigma_sigma = sigmahat/np.sqrt(2*n)\n",
    "\n",
    "print(f'Mean   = {muhat} +/- {sigma_mu}')\n",
    "print(f'Stddev = {sigmahat} +/- {sigma_sigma}')"
   ]
  },
  {
   "cell_type": "markdown",
   "id": "573ed052",
   "metadata": {},
   "source": [
    "### grid calculation for logl\n"
   ]
  },
  {
   "cell_type": "code",
   "execution_count": null,
   "id": "d5e6730d-a2b2-41f9-9068-0a399ad3b71c",
   "metadata": {},
   "outputs": [],
   "source": [
    "\n",
    "mulist,siglist = np.linspace(-310,-270,100), np.linspace(3,30,100)\n",
    "\n",
    "MU,SIG = np.meshgrid(mulist,siglist,indexing='ij')\n",
    "MU = MU.flatten()\n",
    "SIG = SIG.flatten()\n",
    "LOGL = np.zeros_like(MU)\n",
    "for i in range(len(SIG)) :\n",
    "    LOGL[i] = logl(MU[i],SIG[i])\n",
    "    \n",
    "    \n"
   ]
  },
  {
   "cell_type": "markdown",
   "id": "902ad86b",
   "metadata": {},
   "source": [
    "### first estimate plotted over the logl grid\n",
    "\n",
    "Note the uncertainty interval is symmetric but the likelihood clearly isn't"
   ]
  },
  {
   "cell_type": "code",
   "execution_count": null,
   "id": "e43bc3b1",
   "metadata": {},
   "outputs": [],
   "source": [
    "    \n",
    "plt.scatter(MU,SIG,c=LOGL,vmin=-10)\n",
    "plt.errorbar([muhat],[sigmahat],[sigma_sigma],[sigma_mu])\n",
    "plt.colorbar()\n",
    "plt.xlabel('mean v [km/s]')\n",
    "plt.ylabel('velocity dispersion [km/s]')\n",
    "plt.show()"
   ]
  },
  {
   "cell_type": "markdown",
   "id": "245d5959",
   "metadata": {},
   "source": [
    "## Confidence region estimate with Wilks' Theorem\n"
   ]
  },
  {
   "cell_type": "code",
   "execution_count": null,
   "id": "c8ae7d37",
   "metadata": {},
   "outputs": [],
   "source": [
    "# Use the Percent Point Function (ppf) of scipy\n",
    "Finv = scipy.stats.chi2.ppf(0.68,2)\n",
    "\n",
    "Deltal = 0.5*Finv\n",
    "\n",
    "maxl = np.max(LOGL)\n",
    "CL68 = maxl-Deltal"
   ]
  },
  {
   "cell_type": "markdown",
   "id": "d732c7da",
   "metadata": {},
   "source": [
    "### add the Wilks' theorem estimate to the plot\n",
    "\n",
    "Note it's broader than the first, which was at the Cramér–Rao bound (smallest possible uncertainties)\n",
    "\n",
    "It also follows the asymmetric shape of the liklihood function (CR bound was symmetric)"
   ]
  },
  {
   "cell_type": "code",
   "execution_count": null,
   "id": "fbecd061",
   "metadata": {},
   "outputs": [],
   "source": [
    "    \n",
    "plt.scatter(MU,SIG,c=LOGL,vmin=-10)\n",
    "plt.errorbar([muhat],[sigmahat],[sigma_sigma],[sigma_mu])\n",
    "plt.colorbar()\n",
    "\n",
    "plt.contour(mulist,siglist,LOGL.reshape((len(mulist),len(siglist))).T,[CL68])\n",
    "\n",
    "plt.xlabel('mean v [km/s]')\n",
    "plt.ylabel('velocity dispersion [km/s]')\n",
    "plt.show()\n",
    "\n"
   ]
  },
  {
   "cell_type": "markdown",
   "id": "db844a8c",
   "metadata": {},
   "source": [
    "## Bayesian credible interval\n",
    "\n",
    "\n",
    "We have to calculate the posterior $\\propto$ likelihood (with uniform priors), and find the region enclosing 68% of the pdf"
   ]
  },
  {
   "cell_type": "code",
   "execution_count": null,
   "id": "4e5c4d67",
   "metadata": {},
   "outputs": [],
   "source": [
    "\n",
    "L = np.exp(LOGL)\n",
    "sumL = np.sum(L)\n",
    "posterior = L/sumL\n",
    "sort = np.sort(posterior)\n",
    "cs = np.cumsum(sort)\n",
    "CL68bayes = np.log(np.interp(0.32,cs,sort)*sumL)\n",
    "CL95bayes = np.log(np.interp(0.05,cs,sort)*sumL)\n",
    "print(np.sum(L))\n",
    "print(CL68bayes)\n",
    "print(CL95bayes)\n",
    "print(np.exp(CL68bayes))\n",
    "print(np.exp(CL95bayes))"
   ]
  },
  {
   "cell_type": "markdown",
   "id": "8b370604",
   "metadata": {},
   "source": [
    "### add Bayesian credible region (in white)\n",
    "\n",
    "Note the Wilks' Theorem estimate assumed a large number of data points but here N=3. The Bayesian estimate is exact. But each have different interpretations"
   ]
  },
  {
   "cell_type": "code",
   "execution_count": null,
   "id": "20662fa4",
   "metadata": {},
   "outputs": [],
   "source": [
    "\n",
    "plt.scatter(MU,SIG,c=L)\n",
    "plt.errorbar([muhat],[sigmahat],[sigma_sigma],[sigma_mu])\n",
    "plt.colorbar()\n",
    "\n",
    "plt.contour(mulist,siglist,LOGL.reshape((len(mulist),len(siglist))).T,[CL68])\n",
    "plt.contour(mulist,siglist,LOGL.reshape((len(mulist),len(siglist))).T,[CL68bayes],colors='w')\n",
    "plt.contour(mulist,siglist,LOGL.reshape((len(mulist),len(siglist))).T,[CL95bayes],colors='w',linestyles='dotted')\n",
    "\n",
    "plt.xlabel('mean v [km/s]')\n",
    "plt.ylabel('velocity dispersion [km/s]')\n",
    "plt.show()"
   ]
  },
  {
   "cell_type": "code",
   "execution_count": null,
   "id": "d5ae2be5",
   "metadata": {},
   "outputs": [],
   "source": []
  }
 ],
 "metadata": {
  "kernelspec": {
   "display_name": "Python 3 (ipykernel)",
   "language": "python",
   "name": "python3"
  },
  "language_info": {
   "codemirror_mode": {
    "name": "ipython",
    "version": 3
   },
   "file_extension": ".py",
   "mimetype": "text/x-python",
   "name": "python",
   "nbconvert_exporter": "python",
   "pygments_lexer": "ipython3",
   "version": "3.9.18"
  }
 },
 "nbformat": 4,
 "nbformat_minor": 5
}
