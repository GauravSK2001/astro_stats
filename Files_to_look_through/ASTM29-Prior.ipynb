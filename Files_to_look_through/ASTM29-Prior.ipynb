{
 "cells": [
  {
   "cell_type": "markdown",
   "metadata": {},
   "source": [
    "# Notebook demonstrating the power of a prior"
   ]
  },
  {
   "cell_type": "code",
   "execution_count": null,
   "metadata": {},
   "outputs": [],
   "source": [
    "import numpy as np\n",
    "import matplotlib.pyplot as plt\n",
    "plt.rcParams['xtick.minor.visible'], plt.rcParams['xtick.top'] = True,True \n",
    "plt.rcParams['ytick.minor.visible'], plt.rcParams['ytick.right'] = True,True \n",
    "plt.rcParams['xtick.direction'], plt.rcParams['ytick.direction'] = 'in','in' "
   ]
  },
  {
   "cell_type": "code",
   "execution_count": null,
   "metadata": {},
   "outputs": [],
   "source": [
    "plt.rcParams['font.size'] = 14"
   ]
  },
  {
   "cell_type": "markdown",
   "metadata": {},
   "source": [
    "# What is the mass of a star?\n",
    "\n",
    "### Let's assume we've heard about Salpeter's work on the initial mass function of stars (i.e. the distribution of stellar masses when the stars are formed, published in 1955)\n",
    "\n",
    "#### We therefore have a prior on stellar mass\n",
    "\n",
    "$$P(M) \\propto M^{-2.3}$$\n",
    "\n",
    "\n",
    "(We further note this is only valid above some minimum mass,which is about 0.5 $M_\\odot$, but we can ignore that in the following discussion)"
   ]
  },
  {
   "cell_type": "code",
   "execution_count": null,
   "metadata": {},
   "outputs": [],
   "source": [
    "def SalpeterIMFPrior(M) :\n",
    "    '''Unnormalized prior corresponding to the Salpeter IMF'''\n",
    "    Prior = np.power(M,-2.3)\n",
    "    return Prior\n"
   ]
  },
  {
   "cell_type": "markdown",
   "metadata": {},
   "source": [
    "## The (unnormalised) Prior looks like this"
   ]
  },
  {
   "cell_type": "code",
   "execution_count": null,
   "metadata": {},
   "outputs": [],
   "source": [
    "Mrange = np.linspace(0.5,5,2000)\n",
    "Prior = SalpeterIMFPrior(Mrange)\n",
    "plt.plot(Mrange,Prior)\n",
    "plt.xlabel('M')\n",
    "plt.ylabel('Prior (M)')\n",
    "plt.show()"
   ]
  },
  {
   "cell_type": "markdown",
   "metadata": {},
   "source": [
    "# Now we compare the Likelihood of a given mass (from a measured value) to the posterior pdf\n",
    "\n",
    "### First we look at the case where we have a weak constraint on the mass (M = 2.5 $\\pm$ 0.5)"
   ]
  },
  {
   "cell_type": "code",
   "execution_count": null,
   "metadata": {},
   "outputs": [],
   "source": [
    "\n",
    "from scipy.stats import norm\n",
    "\n",
    "def PoorlyKnownMass(M) :\n",
    "    '''Mass measured as 2.5 solar masses, plus or minus 0.5'''\n",
    "    return norm.pdf(M,2.5,0.5)"
   ]
  },
  {
   "cell_type": "code",
   "execution_count": null,
   "metadata": {},
   "outputs": [],
   "source": [
    "Likelihood = PoorlyKnownMass(Mrange)\n",
    "Evidence = np.sum(Prior*Likelihood)*(Mrange[1]-Mrange[0])\n",
    "plt.plot(Mrange,Likelihood,label='Likelihood')\n",
    "plt.plot(Mrange,Likelihood*Prior/Evidence,label='Posterior')\n",
    "plt.xlabel('M')\n",
    "plt.ylabel('')\n",
    "plt.legend()\n",
    "plt.show()"
   ]
  },
  {
   "cell_type": "markdown",
   "metadata": {},
   "source": [
    "## And now a far better estimate (M = 2.5 $\\pm$ 0.1)"
   ]
  },
  {
   "cell_type": "code",
   "execution_count": null,
   "metadata": {},
   "outputs": [],
   "source": [
    "\n",
    "def WellKnownMass(M) :\n",
    "    '''Mass measured as 2.5 solar masses, plus or minus 0.1'''\n",
    "    return norm.pdf(M,2.5,0.1)\n",
    "\n",
    "Likelihood = WellKnownMass(Mrange)\n",
    "Evidence = np.sum(Prior*Likelihood)*(Mrange[1]-Mrange[0])\n",
    "plt.plot(Mrange,Likelihood,label='Likelihood')\n",
    "plt.plot(Mrange,Likelihood*Prior/Evidence,label='Posterior')\n",
    "plt.xlabel('M')\n",
    "plt.ylabel('')\n",
    "#plt.xlim(2,3)\n",
    "plt.legend()\n",
    "plt.show()"
   ]
  },
  {
   "cell_type": "markdown",
   "metadata": {},
   "source": [
    "### So note, as the constraint from the likelihood becomes tighter, the prior carries less importance"
   ]
  },
  {
   "cell_type": "code",
   "execution_count": null,
   "metadata": {},
   "outputs": [],
   "source": []
  }
 ],
 "metadata": {
  "kernelspec": {
   "display_name": "Python 3 (ipykernel)",
   "language": "python",
   "name": "python3"
  },
  "language_info": {
   "codemirror_mode": {
    "name": "ipython",
    "version": 3
   },
   "file_extension": ".py",
   "mimetype": "text/x-python",
   "name": "python",
   "nbconvert_exporter": "python",
   "pygments_lexer": "ipython3",
   "version": "3.9.18"
  }
 },
 "nbformat": 4,
 "nbformat_minor": 4
}
