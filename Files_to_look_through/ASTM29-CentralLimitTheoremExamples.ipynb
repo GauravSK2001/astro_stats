{
 "cells": [
  {
   "cell_type": "code",
   "execution_count": null,
   "metadata": {
    "slideshow": {
     "slide_type": "slide"
    }
   },
   "outputs": [],
   "source": [
    "import matplotlib\n",
    "import numpy as np\n",
    "import matplotlib.pyplot as plt\n",
    "\n",
    "#%matplotlib inline \n",
    "\n",
    "plt.rcParams['xtick.minor.visible'], plt.rcParams['xtick.top'] = True,True \n",
    "plt.rcParams['ytick.minor.visible'], plt.rcParams['ytick.right'] = True,True \n",
    "plt.rcParams['xtick.direction'], plt.rcParams['ytick.direction'] = 'in','in' "
   ]
  },
  {
   "cell_type": "code",
   "execution_count": null,
   "metadata": {
    "slideshow": {
     "slide_type": "slide"
    }
   },
   "outputs": [],
   "source": [
    "\n",
    "plt.rcParams['font.size'] = 18 "
   ]
  },
  {
   "cell_type": "markdown",
   "metadata": {
    "slideshow": {
     "slide_type": "slide"
    }
   },
   "source": [
    "## Notebook to demonstrate the central limit theorem (CLT)\n",
    "\n",
    "Consider X$_i$ are **independent and identically distributed** random variables, with pdf f$_X (x)$, mean E[X] = $\\mu$ and variance Var[X] = $\\sigma^2<\\infty$\n",
    "\n",
    "The sum $Y_n = X_1+X_2+...+X_n$ has pdf $f_{Y_n} = f_X\\ast f_X\\ast ... \\ast f_X$ (convolved n times)\n",
    "\n",
    "This has mean $E[Y_n] = n\\mu$ and variance Var$[Y_n] = n\\sigma^2$, so we can consider the normalised sum\n",
    "\n",
    "\\begin{equation*}\n",
    "\\bar{Y_n} = \\frac{Y_n -n\\mu}{\\sigma\\sqrt{n}}\n",
    "\\end{equation*}\n",
    "\n",
    "which has zero mean, and unit variance for any n.\n",
    "\n",
    "In the limit $n\\rightarrow\\infty$, the Central Limit Theorem states that this tends towards a Normal distribution, provided $f_X$ satisfies certain conditions.\n",
    "\n",
    "\n",
    "\\begin{equation*}\n",
    "\\lim_{n\\rightarrow\\infty} \\bar{Y_n} \\sim N(0,1)\n",
    "\\end{equation*}\n"
   ]
  },
  {
   "cell_type": "markdown",
   "metadata": {
    "slideshow": {
     "slide_type": "slide"
    }
   },
   "source": [
    "\n",
    "## This notebook\n",
    "\n",
    "We proved this theorem in lectures using characteristic functions.\n",
    "\n",
    "This notebook serves to demonstrate this it for a couple of examples, using numerical tests.\n"
   ]
  },
  {
   "cell_type": "markdown",
   "metadata": {
    "slideshow": {
     "slide_type": "slide"
    }
   },
   "source": [
    "# First, we throw a single, six-sided die (10000 times) and see what comes up\n",
    "\n",
    "We plot the results as (the equivalent of) a probability mass function"
   ]
  },
  {
   "cell_type": "code",
   "execution_count": null,
   "metadata": {
    "slideshow": {
     "slide_type": "slide"
    }
   },
   "outputs": [],
   "source": [
    "nroll = 10000\n",
    "die1 = np.random.randint(1,7,nroll)\n",
    "die1hist = np.histogram(die1,bins=np.arange(0.5,7.5,1.))\n",
    "\n",
    "plt.bar(die1hist[1][:-1]+0.5,die1hist[0]/nroll)\n",
    "plt.xticks(np.arange(1,7,1))\n",
    "plt.show()"
   ]
  },
  {
   "cell_type": "markdown",
   "metadata": {
    "slideshow": {
     "slide_type": "slide"
    }
   },
   "source": [
    "# Now we do it again, and sum the results \n",
    "\n",
    "#### (in the sense that we sum the first value from last time with the first this time, the second with the second, and so on."
   ]
  },
  {
   "cell_type": "code",
   "execution_count": null,
   "metadata": {
    "slideshow": {
     "slide_type": "subslide"
    }
   },
   "outputs": [],
   "source": [
    "die2 = np.random.randint(1,7,nroll)\n",
    "die12hist = np.histogram(die1+die2,bins=np.arange(1.5,13.5,1.))\n",
    "plt.bar(die12hist[1][:-1]+0.5,die12hist[0]/nroll)\n",
    "plt.xticks(np.arange(2,13,1))\n",
    "plt.show()"
   ]
  },
  {
   "cell_type": "markdown",
   "metadata": {
    "slideshow": {
     "slide_type": "slide"
    }
   },
   "source": [
    "# And again"
   ]
  },
  {
   "cell_type": "code",
   "execution_count": null,
   "metadata": {
    "slideshow": {
     "slide_type": "subslide"
    }
   },
   "outputs": [],
   "source": [
    "die3 = np.random.randint(1,7,nroll)\n",
    "die123hist = np.histogram(die1+die2+die3,bins=np.arange(2.5,19.5,1.))\n",
    "plt.bar(die123hist[1][:-1]+0.5,die123hist[0]/nroll)\n",
    "plt.xticks(np.arange(3,19,2))\n",
    "plt.show()"
   ]
  },
  {
   "cell_type": "markdown",
   "metadata": {
    "slideshow": {
     "slide_type": "slide"
    }
   },
   "source": [
    "# And again"
   ]
  },
  {
   "cell_type": "code",
   "execution_count": null,
   "metadata": {
    "slideshow": {
     "slide_type": "subslide"
    }
   },
   "outputs": [],
   "source": [
    "die4 = np.random.randint(1,7,nroll)\n",
    "die1234hist = np.histogram(die1+die2+die3+die4,bins=np.arange(3.5,25.5,1.))\n",
    "plt.bar(die1234hist[1][:-1]+0.5,die1234hist[0]/nroll)\n",
    "plt.xticks(np.arange(4,25,2))\n",
    "plt.show()"
   ]
  },
  {
   "cell_type": "code",
   "execution_count": null,
   "metadata": {},
   "outputs": [],
   "source": [
    "# What about different dice? Let's try a D4, D6, D8, D10, D12 and D20..."
   ]
  },
  {
   "cell_type": "code",
   "execution_count": null,
   "metadata": {},
   "outputs": [],
   "source": [
    "d4 = np.random.randint(1,5,nroll)\n",
    "d4hist = np.histogram(d4,bins=np.arange(0.5,5.5,1.))\n",
    "plt.bar(d4hist[1][:-1]+0.5,d4hist[0]/nroll)\n",
    "plt.xticks(np.arange(0,5,1))\n",
    "plt.title('D4')\n",
    "plt.show()"
   ]
  },
  {
   "cell_type": "code",
   "execution_count": null,
   "metadata": {},
   "outputs": [],
   "source": [
    "d6 = np.random.randint(1,7,nroll)\n",
    "d46hist = np.histogram(d4+d6,bins=np.arange(1.5,11.5,1.))\n",
    "plt.bar(d46hist[1][:-1]+0.5,d46hist[0]/nroll)\n",
    "plt.xticks(np.arange(1,11,1))\n",
    "plt.title('D4+D6')\n",
    "plt.show()"
   ]
  },
  {
   "cell_type": "code",
   "execution_count": null,
   "metadata": {},
   "outputs": [],
   "source": [
    "d8 = np.random.randint(1,9,nroll)\n",
    "d468hist = np.histogram(d4+d6+d8,bins=np.arange(2.5,19.5,1.))\n",
    "plt.bar(d468hist[1][:-1]+0.5,d468hist[0]/nroll)\n",
    "plt.xticks(np.arange(1,19,1))\n",
    "plt.title('D4+D6+D8')\n",
    "plt.show()"
   ]
  },
  {
   "cell_type": "code",
   "execution_count": null,
   "metadata": {},
   "outputs": [],
   "source": [
    "d10 = np.random.randint(1,11,nroll)\n",
    "d46810hist = np.histogram(d4+d6+d8+d10,bins=np.arange(3.5,29.5,1.))\n",
    "plt.bar(d46810hist[1][:-1]+0.5,d46810hist[0]/nroll)\n",
    "plt.xticks(np.arange(2,30,2))\n",
    "plt.title('D4+D6+D8+D10')\n",
    "plt.show()"
   ]
  },
  {
   "cell_type": "code",
   "execution_count": null,
   "metadata": {},
   "outputs": [],
   "source": [
    "d12 = np.random.randint(1,13,nroll)\n",
    "d4681012hist = np.histogram(d4+d6+d8+d10+d12,bins=np.arange(4.5,41.5,1.))\n",
    "plt.bar(d4681012hist[1][:-1]+0.5,d4681012hist[0]/nroll)\n",
    "plt.xticks(np.arange(4,42,2))\n",
    "plt.title('D4+D6+D8+D10+D12')\n",
    "plt.show()"
   ]
  },
  {
   "cell_type": "code",
   "execution_count": null,
   "metadata": {},
   "outputs": [],
   "source": [
    "d20 = np.random.randint(1,21,nroll)\n",
    "d468101220hist = np.histogram(d4+d6+d8+d10+d12+d20,bins=np.arange(5.5,61.5,1.))\n",
    "plt.bar(d468101220hist[1][:-1]+0.5,d468101220hist[0]/nroll)\n",
    "plt.xticks(np.arange(4,64,4))\n",
    "plt.title('D4+D6+D8+D10+D12+D20')\n",
    "plt.show()"
   ]
  },
  {
   "cell_type": "markdown",
   "metadata": {
    "slideshow": {
     "slide_type": "slide"
    }
   },
   "source": [
    "# Now we can try the same thing with a continuous distribution"
   ]
  },
  {
   "cell_type": "markdown",
   "metadata": {
    "slideshow": {
     "slide_type": "slide"
    }
   },
   "source": [
    "\n",
    "\n",
    "### Preparation: Explicitly give Gaussian distribution \n",
    "Note that we could use the scipy function scipy.stats.norm.pdf(inval,loc=mean,scale=sigma)"
   ]
  },
  {
   "cell_type": "code",
   "execution_count": null,
   "metadata": {
    "slideshow": {
     "slide_type": "slide"
    }
   },
   "outputs": [],
   "source": [
    "def Gau(inval,mean,sigma) :\n",
    "    return np.exp(-0.5*(inval-mean)**2/sigma**2) / np.sqrt(2*np.pi*sigma**2)"
   ]
  },
  {
   "cell_type": "markdown",
   "metadata": {
    "slideshow": {
     "slide_type": "slide"
    }
   },
   "source": [
    "#### Set some values that we'll use below\n"
   ]
  },
  {
   "cell_type": "code",
   "execution_count": null,
   "metadata": {
    "slideshow": {
     "slide_type": "subslide"
    }
   },
   "outputs": [],
   "source": [
    "nrand = 100000\n",
    "nplot = 50"
   ]
  },
  {
   "cell_type": "markdown",
   "metadata": {
    "slideshow": {
     "slide_type": "slide"
    }
   },
   "source": [
    "\n",
    "\n",
    "# Step one: Compare draws from a single uniform distribution to the Normal distribution"
   ]
  },
  {
   "cell_type": "code",
   "execution_count": null,
   "metadata": {
    "slideshow": {
     "slide_type": "subslide"
    }
   },
   "outputs": [],
   "source": [
    "# Sample Uniform distribution U(0,1)\n",
    "x = np.random.rand(nrand)\n",
    "nU = 1\n",
    "plt.hist(x,nplot,density=True)\n",
    "\n",
    "# Compare to the Gaussian with the same \n",
    "plt.plot(np.linspace(0,nU,nplot),Gau(np.linspace(0,nU,nplot),nU/2.0,np.sqrt(nU/12.)))\n",
    "\n",
    "plt.xlabel('x')\n",
    "plt.ylabel(r'$f_X(x)$')\n",
    "plt.title(r'$U$')\n",
    "plt.show()"
   ]
  },
  {
   "cell_type": "markdown",
   "metadata": {
    "slideshow": {
     "slide_type": "slide"
    }
   },
   "source": [
    "# Step 2: Sum 2 draws together, compare to Gaussian (much closer)"
   ]
  },
  {
   "cell_type": "code",
   "execution_count": null,
   "metadata": {
    "slideshow": {
     "slide_type": "subslide"
    }
   },
   "outputs": [],
   "source": [
    "nU = 2\n",
    "x = np.random.rand(nrand)+ np.random.rand(nrand)\n",
    "\n",
    "plt.hist(x,nplot,density=True)\n",
    "plt.xlabel('x')\n",
    "plt.ylabel(r'$f_X(x)$')\n",
    "plt.plot(np.linspace(0,nU,nplot),Gau(np.linspace(0,nU,nplot),nU/2.0,np.sqrt(nU/12.)))\n",
    "plt.title(r'$U_1 + U_2$')\n",
    "plt.show()"
   ]
  },
  {
   "cell_type": "markdown",
   "metadata": {
    "slideshow": {
     "slide_type": "slide"
    }
   },
   "source": [
    "# Step 3: Sum 3 draws together (closer still)"
   ]
  },
  {
   "cell_type": "code",
   "execution_count": null,
   "metadata": {
    "slideshow": {
     "slide_type": "subslide"
    }
   },
   "outputs": [],
   "source": [
    "x = np.random.rand(nrand)+np.random.rand(nrand)+ np.random.rand(nrand)\n",
    "nU = 3\n",
    "plt.hist(x,nplot,density=True)\n",
    "plt.plot(np.linspace(0,nU,nplot),Gau(np.linspace(0,nU,nplot),nU/2.0,np.sqrt(nU/12.)))\n",
    "plt.xlabel('x')\n",
    "plt.ylabel(r'$f_X(x)$')\n",
    "plt.title(r'$U_1+U_2+U_3$')\n",
    "plt.show()"
   ]
  },
  {
   "cell_type": "markdown",
   "metadata": {
    "slideshow": {
     "slide_type": "slide"
    }
   },
   "source": [
    "# Step 4: Sum 4 draws together (even closer)"
   ]
  },
  {
   "cell_type": "code",
   "execution_count": null,
   "metadata": {
    "slideshow": {
     "slide_type": "subslide"
    }
   },
   "outputs": [],
   "source": [
    "x = np.random.rand(nrand)+np.random.rand(nrand)+np.random.rand(nrand)+ np.random.rand(nrand)\n",
    "nU =4\n",
    "plt.hist(x,nplot,density=True)\n",
    "plt.plot(np.linspace(0,nU,nplot),Gau(np.linspace(0,nU,nplot),nU/2.0,np.sqrt(nU/12.)))\n",
    "plt.xlabel('x')\n",
    "plt.ylabel(r'$f_X(x)$')\n",
    "plt.title(r'$U_1+U_2+U_3+U_4$')\n",
    "plt.show()"
   ]
  },
  {
   "cell_type": "markdown",
   "metadata": {
    "slideshow": {
     "slide_type": "slide"
    }
   },
   "source": [
    "# OK, that was far too easy. \n",
    "## Lets try this with something that looks nothing like a Normal distribution\n",
    "\n",
    "We'll use the Exponential distribution (with unit mean and variance)\n",
    "\n",
    "\\begin{align}\n",
    "E & \\sim Exp(1) \\\\\n",
    "f(x) & = \\begin{cases} \\exp(-x) & \\mbox{if } x\\geq0 \\\\\n",
    "    0 & \\mbox{otherwise} \n",
    "\\end{cases}\n",
    "\\end{align}"
   ]
  },
  {
   "cell_type": "markdown",
   "metadata": {
    "slideshow": {
     "slide_type": "slide"
    }
   },
   "source": [
    "# For a single draw, this is not a good approximation"
   ]
  },
  {
   "cell_type": "code",
   "execution_count": null,
   "metadata": {
    "slideshow": {
     "slide_type": "subslide"
    }
   },
   "outputs": [],
   "source": [
    "e = np.random.exponential(1,nrand)\n",
    "label = r'$E_1$'\n",
    "#xmax = 16\n",
    "xmax = np.percentile(e,99.5)\n",
    "Mu = 1\n",
    "Var = 1\n",
    "xrange = np.linspace(0,xmax,nplot)\n",
    "plt.hist(e,xrange,density=True)\n",
    "plt.plot(xrange,Gau(xrange,Mu,np.sqrt(Var)))\n",
    "plt.xlabel('x')\n",
    "plt.ylabel(r'$f_X(x)$')\n",
    "plt.title(label)\n",
    "plt.xlim(0,xmax)\n",
    "plt.show()"
   ]
  },
  {
   "cell_type": "markdown",
   "metadata": {
    "slideshow": {
     "slide_type": "slide"
    }
   },
   "source": [
    "# But as we go to more and more draws (run the below many times...)"
   ]
  },
  {
   "cell_type": "code",
   "execution_count": null,
   "metadata": {
    "slideshow": {
     "slide_type": "slide"
    }
   },
   "outputs": [],
   "source": [
    "\n",
    "e += np.random.exponential(1,nrand)\n",
    "\n",
    "Mu = Mu+1\n",
    "Var = Var+1\n",
    "\n",
    "n = Mu\n",
    "label = r'$\\sum_{i=1,%d}E_i$' % n\n",
    "\n",
    "xmax = np.percentile(e,99.9)\n",
    "xrange = np.linspace(0,xmax,nplot)\n",
    "#plt.axes([0.2,0.2,0.6,0.4])\n",
    "plt.hist(e,xrange,density=True)\n",
    "plt.plot(xrange,Gau(xrange,Mu,np.sqrt(Var)))\n",
    "plt.xlabel('x')\n",
    "plt.ylabel(r'$f_X(x)$')\n",
    "plt.title(label,y=1.1)\n",
    "plt.xlim(0,xmax)\n",
    "plt.show()"
   ]
  },
  {
   "cell_type": "markdown",
   "metadata": {
    "slideshow": {
     "slide_type": "slide"
    }
   },
   "source": [
    "## Note that if we take the mean in each case, and subtract the expected mean.."
   ]
  },
  {
   "cell_type": "code",
   "execution_count": null,
   "metadata": {
    "slideshow": {
     "slide_type": "slide"
    }
   },
   "outputs": [],
   "source": [
    "\n",
    "xmax = np.percentile(e/n - 1,99.)\n",
    "xrange = np.linspace(-xmax,xmax,nplot)\n",
    "#plt.axes([0.2,0.2,0.6,0.4])\n",
    "plt.hist(e/n - 1,xrange,density=True)\n",
    "plt.plot(xrange,Gau(xrange,0,np.sqrt(Var)/n), label= 'Std dev = %.2f' % (np.sqrt(Var)/n))\n",
    "plt.xlabel('x')\n",
    "plt.ylabel(r'$f_X(x)$')\n",
    "label = r'$\\frac{1}{%d}\\;\\sum_{i=1,%d}E_i$' % (n,n)\n",
    "plt.title(label,y=1.1)\n",
    "plt.xlim(-xmax,xmax)data:image/png;base64,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\n",
    "plt.legend(fontsize='xx-small')\n",
    "plt.show()"
   ]
  },
  {
   "cell_type": "markdown",
   "metadata": {
    "slideshow": {
     "slide_type": "slide"
    }
   },
   "source": [
    "# OK, that was too easy. What about something with an infinite standard deviation?\n",
    "\n",
    "\n",
    "# Draw 500 values from Cauchy distribution & take mean. \n",
    "# Repeat 10000 times\n",
    "\n",
    "# Draw the histogram"
   ]
  },
  {
   "cell_type": "code",
   "execution_count": null,
   "metadata": {
    "slideshow": {
     "slide_type": "slide"
    }
   },
   "outputs": [],
   "source": [
    "ntests = 10000\n",
    "nc = 500\n",
    "\n",
    "CauchyDraws =np.mean(np.random.standard_cauchy((nc,ntests)),0)\n",
    "\n",
    "def Cau(x) : \n",
    "    ''' Gives pdf for Cauchy(0,1) random variable'''\n",
    "    return 1./(np.pi*(1.+x*x))\n",
    "\n",
    "# Set up histogram bins\n",
    "width = 0.1\n",
    "maxrange = 5.0\n",
    "npoints = 1 + (2*int(maxrange/width)) # +1 because point at either end\n",
    "bins = np.linspace(-maxrange,maxrange,npoints)\n",
    "\n",
    "# histogram of mean of random draws\n",
    "plt.hist(CauchyDraws,bins,histtype='step',label='mean of draws')\n",
    "# Cauchy(0,1) (times factor to allow for normalisation)\n",
    "plt.plot(bins,width*ntests*Cau(bins),label='pdf')\n",
    "plt.xlabel('x')\n",
    "plt.ylabel('N per bin')\n",
    "plt.xlim(-maxrange,maxrange)\n",
    "plt.legend(fontsize='x-small',frameon=False)\n",
    "plt.show()"
   ]
  },
  {
   "cell_type": "markdown",
   "metadata": {
    "slideshow": {
     "slide_type": "subslide"
    }
   },
   "source": [
    "### Well that hasn't become Gaussian. It's still a Cauchy distribution. In fact, the pdf of the mean of N draws from a Cauchy distribution is the same as for 1 draw. You can prove this using characteristic functions."
   ]
  }
 ],
 "metadata": {
  "celltoolbar": "Slideshow",
  "kernelspec": {
   "display_name": "Python 3 (ipykernel)",
   "language": "python",
   "name": "python3"
  },
  "language_info": {
   "codemirror_mode": {
    "name": "ipython",
    "version": 3
   },
   "file_extension": ".py",
   "mimetype": "text/x-python",
   "name": "python",
   "nbconvert_exporter": "python",
   "pygments_lexer": "ipython3",
   "version": "3.9.18"
  }
 },
 "nbformat": 4,
 "nbformat_minor": 4
}
